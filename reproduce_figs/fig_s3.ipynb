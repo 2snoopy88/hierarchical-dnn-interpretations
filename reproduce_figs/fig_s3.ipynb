{
 "cells": [
  {
   "cell_type": "code",
   "execution_count": 19,
   "metadata": {},
   "outputs": [
    {
     "name": "stdout",
     "output_type": "stream",
     "text": [
      "The autoreload extension is already loaded. To reload it, use:\n",
      "  %reload_ext autoreload\n"
     ]
    }
   ],
   "source": [
    "%load_ext autoreload\n",
    "%autoreload 2\n",
    "%matplotlib inline\n",
    "import numpy as np\n",
    "import matplotlib.pyplot as plt\n",
    "import foolbox\n",
    "import torch\n",
    "from util import attack_helper"
   ]
  },
  {
   "cell_type": "markdown",
   "metadata": {},
   "source": [
    "# load the model and dset"
   ]
  },
  {
   "cell_type": "code",
   "execution_count": null,
   "metadata": {},
   "outputs": [],
   "source": [
    "# load the dataset\n",
    "sys.path.append('../dsets/mnist')\n",
    "import dset\n",
    "im_torch, im_orig, label = dset.get_im_and_label(250) # this will download the mnist dataset\n",
    "\n",
    "\n",
    "# load the model\n",
    "model = dset.Net().cuda()\n",
    "model.load_state_dict(torch.load('../dsets/mnist/mnist.model'))\n",
    "model.eval()"
   ]
  },
  {
   "cell_type": "markdown",
   "metadata": {},
   "source": [
    "# s3 - plot adversarial attacks"
   ]
  },
  {
   "cell_type": "code",
   "execution_count": 23,
   "metadata": {
    "scrolled": true
   },
   "outputs": [
    {
     "data": {
      "image/png": "[encoded data removed]",
      "text/plain": [
       "<Figure size 432x144 with 3 Axes>"
      ]
     },
     "metadata": {},
     "output_type": "display_data"
    },
    {
     "name": "stdout",
     "output_type": "stream",
     "text": [
      "\tlabel: 4 0.99438715 -> 0.4802195\n",
      "\ttarget: 9 0.005561781 -> 0.51882577\n"
     ]
    },
    {
     "data": {
      "image/png": "[encoded data removed]",
      "text/plain": [
       "<Figure size 432x144 with 3 Axes>"
      ]
     },
     "metadata": {},
     "output_type": "display_data"
    },
    {
     "name": "stdout",
     "output_type": "stream",
     "text": [
      "\tlabel: 4 0.99438715 -> 0.48302823\n",
      "\ttarget: 9 0.005561781 -> 0.5153266\n"
     ]
    },
    {
     "data": {
      "image/png": "[encoded data removed]",
      "text/plain": [
       "<Figure size 432x144 with 3 Axes>"
      ]
     },
     "metadata": {},
     "output_type": "display_data"
    },
    {
     "name": "stdout",
     "output_type": "stream",
     "text": [
      "\tlabel: 4 0.99438715 -> 0.4722832\n",
      "\ttarget: 9 0.005561781 -> 0.5266033\n"
     ]
    },
    {
     "data": {
      "image/png": "[encoded data removed]",
      "text/plain": [
       "<Figure size 432x144 with 3 Axes>"
      ]
     },
     "metadata": {},
     "output_type": "display_data"
    },
    {
     "name": "stdout",
     "output_type": "stream",
     "text": [
      "\tlabel: 4 0.99438715 -> 0.26237604\n",
      "\ttarget: 9 0.005561781 -> 0.73643315\n",
      "run with verbose=True to see details\n",
      "Step 0: 6.65655e-02, stepsizes = 1.0e-02/1.0e-02: \n",
      "Step 3360: 3.28597e-04, stepsizes = 3.4e-05/7.8e-08: \n",
      "Step 3468: 3.28597e-04, stepsizes = 1.8e-07/7.8e-08: \n",
      "Step 3469: 3.28597e-04, stepsizes = 1.8e-07/7.8e-08: \n",
      "Step 3470: 3.28597e-04, stepsizes = 1.8e-07/7.8e-08: \n",
      "Step 3471: 3.28597e-04, stepsizes = 1.8e-07/7.8e-08: \n",
      "Step 3472: 3.28597e-04, stepsizes = 1.2e-07/5.2e-08: \n",
      "Step 3473: 3.28597e-04, stepsizes = 1.2e-07/5.2e-08: \n",
      "Step 3474: 3.28597e-04, stepsizes = 1.2e-07/5.2e-08: \n",
      "Step 3475: 3.28597e-04, stepsizes = 1.2e-07/3.5e-08: \n",
      "Step 3476: 3.28597e-04, stepsizes = 7.8e-08/2.3e-08: \n",
      "Step 3477: 3.28597e-04, stepsizes = 7.8e-08/2.3e-08: \n",
      "Step 3478: 3.28597e-04, stepsizes = 7.8e-08/2.3e-08: \n",
      "Step 3479: 3.28597e-04, stepsizes = 7.8e-08/2.3e-08: \n",
      "Step 3480: 3.28597e-04, stepsizes = 5.2e-08/1.5e-08: \n",
      "Step 3481: 3.28597e-04, stepsizes = 5.2e-08/1.5e-08: \n",
      "Step 3482: 3.28597e-04, stepsizes = 5.2e-08/1.5e-08: \n",
      "Step 3483: 3.28597e-04, stepsizes = 5.2e-08/1.5e-08: \n",
      "Step 3484: 3.28597e-04, stepsizes = 3.5e-08/1.0e-08: \n",
      "Step 3485: 3.28597e-04, stepsizes = 3.5e-08/1.0e-08: \n",
      "Step 3486: 3.28597e-04, stepsizes = 3.5e-08/1.0e-08: \n",
      "Step 3487: 3.28597e-04, stepsizes = 3.5e-08/1.0e-08: \n",
      "Step 3488: 3.28597e-04, stepsizes = 3.5e-08/1.0e-08: \n",
      "Step 3489: 3.28597e-04, stepsizes = 3.5e-08/1.0e-08: \n",
      "Step 3490: 3.28597e-04, stepsizes = 3.5e-08/1.0e-08: \n",
      "Step 3491: 3.28597e-04, stepsizes = 2.3e-08/6.9e-09: \n",
      "Step 3492: 3.28597e-04, stepsizes = 2.3e-08/6.9e-09: \n",
      "Step 3493: 3.28597e-04, stepsizes = 2.3e-08/6.9e-09: \n",
      "Step 3494: 3.28597e-04, stepsizes = 2.3e-08/6.9e-09: \n",
      "Step 3495: 3.28597e-04, stepsizes = 2.3e-08/6.9e-09: \n",
      "Step 3496: 3.28597e-04, stepsizes = 1.5e-08/4.6e-09: \n",
      "Step 3497: 3.28597e-04, stepsizes = 1.5e-08/4.6e-09: \n",
      "Step 3498: 3.28597e-04, stepsizes = 1.5e-08/4.6e-09: \n",
      "Step 3499: 3.28597e-04, stepsizes = 1.5e-08/4.6e-09: \n",
      "Step 3500: 3.28597e-04, stepsizes = 1.0e-08/3.1e-09: \n",
      "Step 3501: 3.28597e-04, stepsizes = 1.0e-08/3.1e-09: \n",
      "Step 3502: 3.28597e-04, stepsizes = 1.0e-08/3.1e-09: \n",
      "Step 3503: 3.28597e-04, stepsizes = 1.0e-08/3.1e-09: \n",
      "Step 3504: 3.28597e-04, stepsizes = 6.9e-09/2.0e-09: \n",
      "Step 3505: 3.28597e-04, stepsizes = 6.9e-09/1.4e-09: \n",
      "Step 3506: 3.28597e-04, stepsizes = 6.9e-09/1.4e-09: \n",
      "Step 3507: 3.28597e-04, stepsizes = 6.9e-09/1.4e-09: \n",
      "Step 3508: 3.28597e-04, stepsizes = 4.6e-09/9.0e-10: \n",
      "Step 3509: 3.28597e-04, stepsizes = 4.6e-09/9.0e-10: \n",
      "Step 3510: 3.28597e-04, stepsizes = 4.6e-09/6.0e-10: \n",
      "Step 3511: 3.28597e-04, stepsizes = 4.6e-09/6.0e-10: \n",
      "Step 3512: 3.28597e-04, stepsizes = 4.6e-09/6.0e-10: \n",
      "Step 3513: 3.28597e-04, stepsizes = 4.6e-09/6.0e-10: \n",
      "Step 3514: 3.28597e-04, stepsizes = 4.6e-09/6.0e-10: \n",
      "Step 3515: 3.28597e-04, stepsizes = 4.6e-09/6.0e-10: \n",
      "Step 3516: 3.28597e-04, stepsizes = 4.6e-09/6.0e-10: \n",
      "Step 3517: 3.28597e-04, stepsizes = 4.6e-09/6.0e-10: \n",
      "Step 3518: 3.28597e-04, stepsizes = 3.1e-09/4.0e-10: \n",
      "Step 3519: 3.28597e-04, stepsizes = 3.1e-09/4.0e-10: \n",
      "Step 3520: 3.28597e-04, stepsizes = 3.1e-09/4.0e-10: \n",
      "Step 3521: 3.28597e-04, stepsizes = 3.1e-09/4.0e-10: \n",
      "Step 3522: 3.28597e-04, stepsizes = 2.0e-09/2.7e-10: \n",
      "Step 3523: 3.28597e-04, stepsizes = 2.0e-09/1.8e-10: \n",
      "Step 3524: 3.28597e-04, stepsizes = 2.0e-09/1.8e-10: \n",
      "Step 3525: 3.28597e-04, stepsizes = 2.0e-09/1.8e-10: \n",
      "Step 3526: 3.28597e-04, stepsizes = 2.0e-09/1.8e-10: \n",
      "Step 3527: 3.28597e-04, stepsizes = 2.0e-09/1.8e-10: \n",
      "Step 3528: 3.28597e-04, stepsizes = 1.4e-09/1.2e-10: \n",
      "Step 3529: 3.28597e-04, stepsizes = 1.4e-09/1.2e-10: \n",
      "Step 3530: 3.28597e-04, stepsizes = 1.4e-09/1.2e-10: \n",
      "Step 3531: 3.28597e-04, stepsizes = 1.4e-09/1.2e-10: \n",
      "Step 3532: 3.28597e-04, stepsizes = 1.4e-09/1.2e-10: \n",
      "Step 3533: 3.28597e-04, stepsizes = 1.4e-09/1.2e-10: \n",
      "Step 3534: 3.28597e-04, stepsizes = 1.4e-09/1.8e-10: \n",
      "Step 3535: 3.28597e-04, stepsizes = 1.4e-09/1.8e-10: \n",
      "Step 3536: 3.28597e-04, stepsizes = 1.4e-09/1.8e-10: \n",
      "Step 3537: 3.28597e-04, stepsizes = 1.4e-09/1.8e-10: \n",
      "Step 3538: 3.28597e-04, stepsizes = 9.0e-10/1.2e-10: \n",
      "Step 3539: 3.28597e-04, stepsizes = 9.0e-10/1.2e-10: \n",
      "Step 3540: 3.28597e-04, stepsizes = 9.0e-10/1.2e-10: \n",
      "Step 3541: 3.28597e-04, stepsizes = 9.0e-10/1.2e-10: \n",
      "Step 3542: 3.28597e-04, stepsizes = 6.0e-10/7.9e-11: \n",
      "Step 3543: 3.28597e-04, stepsizes = 6.0e-10/7.9e-11: \n",
      "Step 3544: 3.28597e-04, stepsizes = 6.0e-10/7.9e-11: \n",
      "Step 3545: 3.28597e-04, stepsizes = 6.0e-10/7.9e-11: \n",
      "Step 3546: 3.28597e-04, stepsizes = 4.0e-10/5.3e-11: \n",
      "Step 3547: 3.28597e-04, stepsizes = 4.0e-10/3.5e-11: \n",
      "Step 3548: 3.28597e-04, stepsizes = 4.0e-10/3.5e-11: \n",
      "Step 3549: 3.28597e-04, stepsizes = 4.0e-10/3.5e-11: \n",
      "Step 3550: 3.28597e-04, stepsizes = 2.7e-10/2.4e-11: \n",
      "Step 3551: 3.28597e-04, stepsizes = 2.7e-10/2.4e-11: \n",
      "Step 3552: 3.28597e-04, stepsizes = 2.7e-10/2.4e-11: \n",
      "Step 3553: 3.28597e-04, stepsizes = 2.7e-10/2.4e-11: \n",
      "Step 3554: 3.28597e-04, stepsizes = 1.8e-10/1.6e-11: \n",
      "Step 3555: 3.28597e-04, stepsizes = 1.8e-10/2.4e-11: \n",
      "Step 3556: 3.28597e-04, stepsizes = 1.8e-10/2.4e-11: \n",
      "Step 3557: 3.28597e-04, stepsizes = 1.8e-10/3.5e-11: \n",
      "Step 3558: 3.28597e-04, stepsizes = 2.7e-10/5.3e-11: \n",
      "Step 3559: 3.28597e-04, stepsizes = 2.7e-10/5.3e-11: \n",
      "Step 3560: 3.28597e-04, stepsizes = 2.7e-10/5.3e-11: \n",
      "Step 3561: 3.28597e-04, stepsizes = 2.7e-10/3.5e-11: \n",
      "Step 3562: 3.28597e-04, stepsizes = 2.7e-10/3.5e-11: \n",
      "Step 3563: 3.28597e-04, stepsizes = 2.7e-10/3.5e-11: \n",
      "Step 3564: 3.28597e-04, stepsizes = 2.7e-10/3.5e-11: \n",
      "Step 3565: 3.28597e-04, stepsizes = 2.7e-10/3.5e-11: \n",
      "Step 3566: 3.28597e-04, stepsizes = 2.7e-10/3.5e-11: \n",
      "Step 3567: 3.28597e-04, stepsizes = 2.7e-10/5.3e-11: \n"
     ]
    },
    {
     "data": {
      "image/png": "[encoded data removed]",
      "text/plain": [
       "<Figure size 432x144 with 3 Axes>"
      ]
     },
     "metadata": {},
     "output_type": "display_data"
    },
    {
     "name": "stdout",
     "output_type": "stream",
     "text": [
      "\tlabel: 4 0.99438715 -> 0.49944073\n",
      "\ttarget: 9 0.005561781 -> 0.49943933\n"
     ]
    }
   ],
   "source": [
    "im_num = 250\n",
    "\n",
    "# pick im + attack\n",
    "ats = ['fgsm', 'saliency', 'gradientattack', 'deepfoolattack', 'boundaryattack']\n",
    "vals = []\n",
    "for attack_type in ats:\n",
    "    # generate attack\n",
    "    im_orig, im_torch, im_orig_adv, im_torch_adv, label, target, pred_orig, pred_adv = attack_helper.attack_im_num(dset, model, im_num, attack_type)\n",
    "    vals.append((im_orig, im_torch, im_orig_adv, im_torch_adv, label, target, pred_orig, pred_adv))\n",
    "    attack_helper.plot_attack(im_orig, im_orig_adv, label, target, pred_orig, pred_adv)"
   ]
  },
  {
   "cell_type": "code",
   "execution_count": null,
   "metadata": {},
   "outputs": [],
   "source": []
  }
 ],
 "metadata": {
  "anaconda-cloud": {},
  "kernelspec": {
   "display_name": "Python 3",
   "language": "python",
   "name": "python3"
  },
  "language_info": {
   "codemirror_mode": {
    "name": "ipython",
    "version": 3
   },
   "file_extension": ".py",
   "mimetype": "text/x-python",
   "name": "python",
   "nbconvert_exporter": "python",
   "pygments_lexer": "ipython3",
   "version": "3.5.4"
  }
 },
 "nbformat": 4,
 "nbformat_minor": 2
}
