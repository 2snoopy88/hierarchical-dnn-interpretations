{
 "cells": [
  {
   "cell_type": "code",
   "execution_count": 12,
   "metadata": {},
   "outputs": [
    {
     "name": "stdout",
     "output_type": "stream",
     "text": [
      "The autoreload extension is already loaded. To reload it, use:\n",
      "  %reload_ext autoreload\n"
     ]
    }
   ],
   "source": [
    "%load_ext autoreload\n",
    "%autoreload 2\n",
    "%matplotlib inline\n",
    "import numpy as np\n",
    "import os\n",
    "import matplotlib.pyplot as plt\n",
    "import sys\n",
    "import random\n",
    "import copy\n",
    "import pickle\n",
    "from os.path import join as oj\n",
    "sys.path.insert(1, oj(sys.path[0], 'mnist'))\n",
    "\n",
    "import visualize as viz\n",
    "import tiling\n",
    "import agglomerate\n",
    "import operator\n",
    "from cd import cd\n",
    "from tqdm import tqdm\n",
    "from collections import defaultdict\n",
    "\n",
    "import torch\n",
    "import mnist.mnist as dset\n",
    "from mnist.mnist import pred_ims\n",
    "import torch.nn.functional as F\n",
    "from torch.autograd import Variable\n",
    "from torchvision import datasets, transforms\n",
    "import scores as score_funcs\n",
    "from agglomerate import get_scores\n",
    "\n",
    "cs_div = ['#a6cee3','#1f78b4','#b2df8a','#33a02c','#fb9a99','#e31a1c','#fdbf6f','#ff7f00','#cab2d6']\n",
    "\n",
    "# load the model\n",
    "model = dset.Net().cuda()\n",
    "model.load_state_dict(torch.load('mnist/mnist.model'))"
   ]
  },
  {
   "cell_type": "code",
   "execution_count": 13,
   "metadata": {},
   "outputs": [
    {
     "data": {
      "text/plain": [
       "Net(\n",
       "  (conv1): Conv2d (1, 10, kernel_size=(5, 5), stride=(1, 1))\n",
       "  (conv2): Conv2d (10, 20, kernel_size=(5, 5), stride=(1, 1))\n",
       "  (conv2_drop): Dropout2d(p=0.5)\n",
       "  (fc1): Linear(in_features=320, out_features=50)\n",
       "  (fc2): Linear(in_features=50, out_features=10)\n",
       ")"
      ]
     },
     "execution_count": 13,
     "metadata": {},
     "output_type": "execute_result"
    }
   ],
   "source": [
    "method = 'cd'\n",
    "sweep_dim = 1\n",
    "layer = 'softmax'\n",
    "use_abs = False\n",
    "num_iters = 6\n",
    "percentile_include = 99\n",
    "_, train_loader = dset.load_data(train_batch_size=1, test_batch_size=1,\n",
    "                                    use_cuda=True, data_dir='mnist/data',\n",
    "                                    shuffle=False)\n",
    "model.eval()"
   ]
  },
  {
   "cell_type": "markdown",
   "metadata": {},
   "source": [
    "# find top examples, worst examples"
   ]
  },
  {
   "cell_type": "code",
   "execution_count": 25,
   "metadata": {},
   "outputs": [
    {
     "name": "stdout",
     "output_type": "stream",
     "text": [
      "10000\n",
      "0\n",
      "1000\n",
      "2000\n",
      "3000\n",
      "4000\n",
      "5000\n",
      "6000\n",
      "7000\n",
      "8000\n",
      "9000\n"
     ]
    }
   ],
   "source": [
    "preds = []\n",
    "print(len(train_loader))\n",
    "for i, im in enumerate(train_loader):\n",
    "    im_torch, label = Variable(im[0].cuda()), im[1].numpy()[0]\n",
    "    if i % 1000 == 0:\n",
    "        print(i)\n",
    "    pred = model(im_torch).data[0, label]\n",
    "    preds.append(pred)"
   ]
  },
  {
   "cell_type": "code",
   "execution_count": 37,
   "metadata": {
    "scrolled": true
   },
   "outputs": [
    {
     "name": "stdout",
     "output_type": "stream",
     "text": [
      "top idxs [4999 9074 9106 9100 6311 9095 6313 9083 6354 6355]\n",
      "bot idxs [3520 6597 1299 1681 9009 3767 3333  259 1226 6505]\n"
     ]
    }
   ],
   "source": [
    "top_idxs = np.argsort(preds)[::-1]\n",
    "preds[top_idxs[0]]\n",
    "top_10 = top_idxs[:10]\n",
    "bot_10 = top_idxs[-10:][::-1]\n",
    "print('top idxs', top_10)\n",
    "print('bot idxs', bot_10)"
   ]
  },
  {
   "cell_type": "code",
   "execution_count": 4,
   "metadata": {},
   "outputs": [],
   "source": [
    "# Generate bad model\n",
    "np.random.seed(17042018)\n",
    "modify_prop = 0.25 #0.15\n",
    "bad_model = copy.deepcopy(model)\n",
    "bad_model.eval()\n",
    "for param in bad_model.parameters():\n",
    "    num_params = np.prod(list(param.data.size()))\n",
    "    num_modify = modify_prop * num_params\n",
    "    to_modify = np.random.choice([True, False], tuple(param.data.size()), \n",
    "                                 p=(modify_prop, 1-modify_prop))\n",
    "    cpu_param = param.data.cpu().numpy()\n",
    "    #permuted_vars = cpu_param[to_modify]\n",
    "    cpu_param[to_modify] = np.random.permutation(cpu_param[to_modify])\n",
    "    param.data = torch.cuda.FloatTensor(cpu_param) \n",
    "\n"
   ]
  },
  {
   "cell_type": "code",
   "execution_count": 5,
   "metadata": {},
   "outputs": [
    {
     "name": "stdout",
     "output_type": "stream",
     "text": [
      "10000\n",
      "Accuracy of bad model:  0.7964\n",
      "20000\n",
      "Accuracy of good model:  0.8868\n"
     ]
    }
   ],
   "source": [
    "# Compute accuracy of bad model\n",
    "num_correct, num_total = 0, 0\n",
    "\n",
    "for i, im in enumerate(train_loader):\n",
    "    im_torch, im_orig, label = Variable(im[0].cuda()), im[0].numpy().squeeze(), im[1].numpy()[0]\n",
    "    pred = bad_model(im_torch)\n",
    "    _, pred = pred[0].max(0)\n",
    "    pred = pred.data[0]\n",
    "    if pred == label:\n",
    "        num_correct += 1\n",
    "    num_total += 1\n",
    "    if num_total % 10000 == 0:\n",
    "        print(num_total)\n",
    "\n",
    "print(\"Accuracy of bad model: \", num_correct / num_total)\n",
    "\n",
    "for i, im in enumerate(train_loader):\n",
    "    im_torch, im_orig, label = Variable(im[0].cuda()), im[0].numpy().squeeze(), im[1].numpy()[0]\n",
    "    pred = model(im_torch)\n",
    "    _, pred = pred[0].max(0)\n",
    "    pred = pred.data[0]\n",
    "    if pred == label:\n",
    "        num_correct += 1\n",
    "    num_total += 1\n",
    "    if num_total % 10000 == 0:\n",
    "        print(num_total)\n",
    "\n",
    "print(\"Accuracy of good model: \", num_correct / num_total)\n"
   ]
  },
  {
   "cell_type": "code",
   "execution_count": 6,
   "metadata": {
    "collapsed": true
   },
   "outputs": [
    {
     "name": "stdout",
     "output_type": "stream",
     "text": [
      "0\n"
     ]
    },
    {
     "name": "stderr",
     "output_type": "stream",
     "text": [
      "/usr/local/linux/anaconda3/lib/python3.5/site-packages/ipykernel_launcher.py:5: UserWarning: Implicit dimension choice for softmax has been deprecated. Change the call to include dim=X as an argument.\n",
      "  \"\"\"\n",
      "/usr/local/linux/anaconda3/lib/python3.5/site-packages/ipykernel_launcher.py:7: UserWarning: Implicit dimension choice for softmax has been deprecated. Change the call to include dim=X as an argument.\n",
      "  import sys\n",
      "/usr/local/linux/anaconda3/lib/python3.5/site-packages/ipykernel_launcher.py:12: UserWarning: Implicit dimension choice for softmax has been deprecated. Change the call to include dim=X as an argument.\n",
      "  if sys.path[0] == '':\n",
      "/usr/local/linux/anaconda3/lib/python3.5/site-packages/ipykernel_launcher.py:14: UserWarning: Implicit dimension choice for softmax has been deprecated. Change the call to include dim=X as an argument.\n",
      "  \n"
     ]
    },
    {
     "name": "stdout",
     "output_type": "stream",
     "text": [
      "1000\n",
      "2000\n",
      "3000\n",
      "4000\n",
      "5000\n",
      "6000\n",
      "7000\n",
      "8000\n"
     ]
    },
    {
     "name": "stderr",
     "output_type": "stream",
     "text": [
      "Process Process-3:\n",
      "Traceback (most recent call last):\n",
      "  File \"/usr/local/linux/anaconda3/lib/python3.5/multiprocessing/process.py\", line 252, in _bootstrap\n",
      "    self.run()\n",
      "  File \"/usr/local/linux/anaconda3/lib/python3.5/multiprocessing/process.py\", line 93, in run\n",
      "    self._target(*self._args, **self._kwargs)\n",
      "  File \"/accounts/projects/vision/.local/lib/python3.5/site-packages/torch/utils/data/dataloader.py\", line 36, in _worker_loop\n",
      "    r = index_queue.get()\n",
      "  File \"/usr/local/linux/anaconda3/lib/python3.5/multiprocessing/queues.py\", line 335, in get\n",
      "    res = self._reader.recv_bytes()\n",
      "  File \"/usr/local/linux/anaconda3/lib/python3.5/multiprocessing/connection.py\", line 216, in recv_bytes\n",
      "    buf = self._recv_bytes(maxlength)\n",
      "  File \"/usr/local/linux/anaconda3/lib/python3.5/multiprocessing/connection.py\", line 407, in _recv_bytes\n",
      "    buf = self._recv(4)\n",
      "  File \"/usr/local/linux/anaconda3/lib/python3.5/multiprocessing/connection.py\", line 379, in _recv\n",
      "    chunk = read(handle, remaining)\n",
      "KeyboardInterrupt\n"
     ]
    },
    {
     "ename": "KeyboardInterrupt",
     "evalue": "",
     "output_type": "error",
     "traceback": [
      "\u001b[0;31m---------------------------------------------------------------------------\u001b[0m",
      "\u001b[0;31mKeyboardInterrupt\u001b[0m                         Traceback (most recent call last)",
      "\u001b[0;32m<ipython-input-6-ea2f3b78eccd>\u001b[0m in \u001b[0;36m<module>\u001b[0;34m()\u001b[0m\n\u001b[1;32m      5\u001b[0m     \u001b[0mgood_max\u001b[0m\u001b[0;34m,\u001b[0m \u001b[0mgood_pred\u001b[0m \u001b[0;34m=\u001b[0m \u001b[0mF\u001b[0m\u001b[0;34m.\u001b[0m\u001b[0msoftmax\u001b[0m\u001b[0;34m(\u001b[0m\u001b[0mmodel\u001b[0m\u001b[0;34m(\u001b[0m\u001b[0mim_torch\u001b[0m\u001b[0;34m)\u001b[0m\u001b[0;34m)\u001b[0m\u001b[0;34m.\u001b[0m\u001b[0mmax\u001b[0m\u001b[0;34m(\u001b[0m\u001b[0;36m1\u001b[0m\u001b[0;34m)\u001b[0m\u001b[0;34m\u001b[0m\u001b[0m\n\u001b[1;32m      6\u001b[0m     \u001b[0mgood_pred\u001b[0m \u001b[0;34m=\u001b[0m \u001b[0mgood_pred\u001b[0m\u001b[0;34m.\u001b[0m\u001b[0mdata\u001b[0m\u001b[0;34m[\u001b[0m\u001b[0;36m0\u001b[0m\u001b[0;34m]\u001b[0m\u001b[0;34m;\u001b[0m \u001b[0mgood_max\u001b[0m \u001b[0;34m=\u001b[0m \u001b[0mgood_max\u001b[0m\u001b[0;34m.\u001b[0m\u001b[0mdata\u001b[0m\u001b[0;34m[\u001b[0m\u001b[0;36m0\u001b[0m\u001b[0;34m]\u001b[0m\u001b[0;34m\u001b[0m\u001b[0m\n\u001b[0;32m----> 7\u001b[0;31m     \u001b[0mbad_max\u001b[0m\u001b[0;34m,\u001b[0m \u001b[0mbad_pred\u001b[0m \u001b[0;34m=\u001b[0m \u001b[0mF\u001b[0m\u001b[0;34m.\u001b[0m\u001b[0msoftmax\u001b[0m\u001b[0;34m(\u001b[0m\u001b[0mbad_model\u001b[0m\u001b[0;34m(\u001b[0m\u001b[0mim_torch\u001b[0m\u001b[0;34m)\u001b[0m\u001b[0;34m)\u001b[0m\u001b[0;34m.\u001b[0m\u001b[0mmax\u001b[0m\u001b[0;34m(\u001b[0m\u001b[0;36m1\u001b[0m\u001b[0;34m)\u001b[0m\u001b[0;34m\u001b[0m\u001b[0m\n\u001b[0m\u001b[1;32m      8\u001b[0m     \u001b[0mbad_pred\u001b[0m \u001b[0;34m=\u001b[0m \u001b[0mbad_pred\u001b[0m\u001b[0;34m.\u001b[0m\u001b[0mdata\u001b[0m\u001b[0;34m[\u001b[0m\u001b[0;36m0\u001b[0m\u001b[0;34m]\u001b[0m\u001b[0;34m;\u001b[0m \u001b[0mbad_max\u001b[0m \u001b[0;34m=\u001b[0m \u001b[0mbad_max\u001b[0m\u001b[0;34m.\u001b[0m\u001b[0mdata\u001b[0m\u001b[0;34m[\u001b[0m\u001b[0;36m0\u001b[0m\u001b[0;34m]\u001b[0m\u001b[0;34m\u001b[0m\u001b[0m\n\u001b[1;32m      9\u001b[0m \u001b[0;34m\u001b[0m\u001b[0m\n",
      "\u001b[0;32m~/.local/lib/python3.5/site-packages/torch/nn/modules/module.py\u001b[0m in \u001b[0;36m__call__\u001b[0;34m(self, *input, **kwargs)\u001b[0m\n\u001b[1;32m    323\u001b[0m         \u001b[0;32mfor\u001b[0m \u001b[0mhook\u001b[0m \u001b[0;32min\u001b[0m \u001b[0mself\u001b[0m\u001b[0;34m.\u001b[0m\u001b[0m_forward_pre_hooks\u001b[0m\u001b[0;34m.\u001b[0m\u001b[0mvalues\u001b[0m\u001b[0;34m(\u001b[0m\u001b[0;34m)\u001b[0m\u001b[0;34m:\u001b[0m\u001b[0;34m\u001b[0m\u001b[0m\n\u001b[1;32m    324\u001b[0m             \u001b[0mhook\u001b[0m\u001b[0;34m(\u001b[0m\u001b[0mself\u001b[0m\u001b[0;34m,\u001b[0m \u001b[0minput\u001b[0m\u001b[0;34m)\u001b[0m\u001b[0;34m\u001b[0m\u001b[0m\n\u001b[0;32m--> 325\u001b[0;31m         \u001b[0mresult\u001b[0m \u001b[0;34m=\u001b[0m \u001b[0mself\u001b[0m\u001b[0;34m.\u001b[0m\u001b[0mforward\u001b[0m\u001b[0;34m(\u001b[0m\u001b[0;34m*\u001b[0m\u001b[0minput\u001b[0m\u001b[0;34m,\u001b[0m \u001b[0;34m**\u001b[0m\u001b[0mkwargs\u001b[0m\u001b[0;34m)\u001b[0m\u001b[0;34m\u001b[0m\u001b[0m\n\u001b[0m\u001b[1;32m    326\u001b[0m         \u001b[0;32mfor\u001b[0m \u001b[0mhook\u001b[0m \u001b[0;32min\u001b[0m \u001b[0mself\u001b[0m\u001b[0;34m.\u001b[0m\u001b[0m_forward_hooks\u001b[0m\u001b[0;34m.\u001b[0m\u001b[0mvalues\u001b[0m\u001b[0;34m(\u001b[0m\u001b[0;34m)\u001b[0m\u001b[0;34m:\u001b[0m\u001b[0;34m\u001b[0m\u001b[0m\n\u001b[1;32m    327\u001b[0m             \u001b[0mhook_result\u001b[0m \u001b[0;34m=\u001b[0m \u001b[0mhook\u001b[0m\u001b[0;34m(\u001b[0m\u001b[0mself\u001b[0m\u001b[0;34m,\u001b[0m \u001b[0minput\u001b[0m\u001b[0;34m,\u001b[0m \u001b[0mresult\u001b[0m\u001b[0;34m)\u001b[0m\u001b[0;34m\u001b[0m\u001b[0m\n",
      "\u001b[0;32m~/chandan/agglomerative_attention/mnist/mnist.py\u001b[0m in \u001b[0;36mforward\u001b[0;34m(self, x)\u001b[0m\n\u001b[1;32m     62\u001b[0m     \u001b[0;32mdef\u001b[0m \u001b[0mforward\u001b[0m\u001b[0;34m(\u001b[0m\u001b[0mself\u001b[0m\u001b[0;34m,\u001b[0m \u001b[0mx\u001b[0m\u001b[0;34m)\u001b[0m\u001b[0;34m:\u001b[0m\u001b[0;34m\u001b[0m\u001b[0m\n\u001b[1;32m     63\u001b[0m         \u001b[0mx\u001b[0m \u001b[0;34m=\u001b[0m \u001b[0mF\u001b[0m\u001b[0;34m.\u001b[0m\u001b[0mrelu\u001b[0m\u001b[0;34m(\u001b[0m\u001b[0mF\u001b[0m\u001b[0;34m.\u001b[0m\u001b[0mmax_pool2d\u001b[0m\u001b[0;34m(\u001b[0m\u001b[0mself\u001b[0m\u001b[0;34m.\u001b[0m\u001b[0mconv1\u001b[0m\u001b[0;34m(\u001b[0m\u001b[0mx\u001b[0m\u001b[0;34m)\u001b[0m\u001b[0;34m,\u001b[0m \u001b[0;36m2\u001b[0m\u001b[0;34m)\u001b[0m\u001b[0;34m)\u001b[0m\u001b[0;34m\u001b[0m\u001b[0m\n\u001b[0;32m---> 64\u001b[0;31m         \u001b[0mx\u001b[0m \u001b[0;34m=\u001b[0m \u001b[0mF\u001b[0m\u001b[0;34m.\u001b[0m\u001b[0mrelu\u001b[0m\u001b[0;34m(\u001b[0m\u001b[0mF\u001b[0m\u001b[0;34m.\u001b[0m\u001b[0mmax_pool2d\u001b[0m\u001b[0;34m(\u001b[0m\u001b[0mself\u001b[0m\u001b[0;34m.\u001b[0m\u001b[0mconv2_drop\u001b[0m\u001b[0;34m(\u001b[0m\u001b[0mself\u001b[0m\u001b[0;34m.\u001b[0m\u001b[0mconv2\u001b[0m\u001b[0;34m(\u001b[0m\u001b[0mx\u001b[0m\u001b[0;34m)\u001b[0m\u001b[0;34m)\u001b[0m\u001b[0;34m,\u001b[0m \u001b[0;36m2\u001b[0m\u001b[0;34m)\u001b[0m\u001b[0;34m)\u001b[0m\u001b[0;34m\u001b[0m\u001b[0m\n\u001b[0m\u001b[1;32m     65\u001b[0m         \u001b[0mx\u001b[0m \u001b[0;34m=\u001b[0m \u001b[0mx\u001b[0m\u001b[0;34m.\u001b[0m\u001b[0mview\u001b[0m\u001b[0;34m(\u001b[0m\u001b[0;34m-\u001b[0m\u001b[0;36m1\u001b[0m\u001b[0;34m,\u001b[0m \u001b[0;36m320\u001b[0m\u001b[0;34m)\u001b[0m\u001b[0;34m\u001b[0m\u001b[0m\n\u001b[1;32m     66\u001b[0m         \u001b[0mx\u001b[0m \u001b[0;34m=\u001b[0m \u001b[0mF\u001b[0m\u001b[0;34m.\u001b[0m\u001b[0mrelu\u001b[0m\u001b[0;34m(\u001b[0m\u001b[0mself\u001b[0m\u001b[0;34m.\u001b[0m\u001b[0mfc1\u001b[0m\u001b[0;34m(\u001b[0m\u001b[0mx\u001b[0m\u001b[0;34m)\u001b[0m\u001b[0;34m)\u001b[0m\u001b[0;34m\u001b[0m\u001b[0m\n",
      "\u001b[0;32m~/.local/lib/python3.5/site-packages/torch/nn/modules/module.py\u001b[0m in \u001b[0;36m__call__\u001b[0;34m(self, *input, **kwargs)\u001b[0m\n\u001b[1;32m    323\u001b[0m         \u001b[0;32mfor\u001b[0m \u001b[0mhook\u001b[0m \u001b[0;32min\u001b[0m \u001b[0mself\u001b[0m\u001b[0;34m.\u001b[0m\u001b[0m_forward_pre_hooks\u001b[0m\u001b[0;34m.\u001b[0m\u001b[0mvalues\u001b[0m\u001b[0;34m(\u001b[0m\u001b[0;34m)\u001b[0m\u001b[0;34m:\u001b[0m\u001b[0;34m\u001b[0m\u001b[0m\n\u001b[1;32m    324\u001b[0m             \u001b[0mhook\u001b[0m\u001b[0;34m(\u001b[0m\u001b[0mself\u001b[0m\u001b[0;34m,\u001b[0m \u001b[0minput\u001b[0m\u001b[0;34m)\u001b[0m\u001b[0;34m\u001b[0m\u001b[0m\n\u001b[0;32m--> 325\u001b[0;31m         \u001b[0mresult\u001b[0m \u001b[0;34m=\u001b[0m \u001b[0mself\u001b[0m\u001b[0;34m.\u001b[0m\u001b[0mforward\u001b[0m\u001b[0;34m(\u001b[0m\u001b[0;34m*\u001b[0m\u001b[0minput\u001b[0m\u001b[0;34m,\u001b[0m \u001b[0;34m**\u001b[0m\u001b[0mkwargs\u001b[0m\u001b[0;34m)\u001b[0m\u001b[0;34m\u001b[0m\u001b[0m\n\u001b[0m\u001b[1;32m    326\u001b[0m         \u001b[0;32mfor\u001b[0m \u001b[0mhook\u001b[0m \u001b[0;32min\u001b[0m \u001b[0mself\u001b[0m\u001b[0;34m.\u001b[0m\u001b[0m_forward_hooks\u001b[0m\u001b[0;34m.\u001b[0m\u001b[0mvalues\u001b[0m\u001b[0;34m(\u001b[0m\u001b[0;34m)\u001b[0m\u001b[0;34m:\u001b[0m\u001b[0;34m\u001b[0m\u001b[0m\n\u001b[1;32m    327\u001b[0m             \u001b[0mhook_result\u001b[0m \u001b[0;34m=\u001b[0m \u001b[0mhook\u001b[0m\u001b[0;34m(\u001b[0m\u001b[0mself\u001b[0m\u001b[0;34m,\u001b[0m \u001b[0minput\u001b[0m\u001b[0;34m,\u001b[0m \u001b[0mresult\u001b[0m\u001b[0;34m)\u001b[0m\u001b[0;34m\u001b[0m\u001b[0m\n",
      "\u001b[0;32m~/.local/lib/python3.5/site-packages/torch/nn/modules/dropout.py\u001b[0m in \u001b[0;36mforward\u001b[0;34m(self, input)\u001b[0m\n\u001b[1;32m     97\u001b[0m \u001b[0;34m\u001b[0m\u001b[0m\n\u001b[1;32m     98\u001b[0m     \u001b[0;32mdef\u001b[0m \u001b[0mforward\u001b[0m\u001b[0;34m(\u001b[0m\u001b[0mself\u001b[0m\u001b[0;34m,\u001b[0m \u001b[0minput\u001b[0m\u001b[0;34m)\u001b[0m\u001b[0;34m:\u001b[0m\u001b[0;34m\u001b[0m\u001b[0m\n\u001b[0;32m---> 99\u001b[0;31m         \u001b[0;32mreturn\u001b[0m \u001b[0mF\u001b[0m\u001b[0;34m.\u001b[0m\u001b[0mdropout2d\u001b[0m\u001b[0;34m(\u001b[0m\u001b[0minput\u001b[0m\u001b[0;34m,\u001b[0m \u001b[0mself\u001b[0m\u001b[0;34m.\u001b[0m\u001b[0mp\u001b[0m\u001b[0;34m,\u001b[0m \u001b[0mself\u001b[0m\u001b[0;34m.\u001b[0m\u001b[0mtraining\u001b[0m\u001b[0;34m,\u001b[0m \u001b[0mself\u001b[0m\u001b[0;34m.\u001b[0m\u001b[0minplace\u001b[0m\u001b[0;34m)\u001b[0m\u001b[0;34m\u001b[0m\u001b[0m\n\u001b[0m\u001b[1;32m    100\u001b[0m \u001b[0;34m\u001b[0m\u001b[0m\n\u001b[1;32m    101\u001b[0m     \u001b[0;32mdef\u001b[0m \u001b[0m__repr__\u001b[0m\u001b[0;34m(\u001b[0m\u001b[0mself\u001b[0m\u001b[0;34m)\u001b[0m\u001b[0;34m:\u001b[0m\u001b[0;34m\u001b[0m\u001b[0m\n",
      "\u001b[0;32m~/.local/lib/python3.5/site-packages/torch/nn/functional.py\u001b[0m in \u001b[0;36mdropout2d\u001b[0;34m(input, p, training, inplace)\u001b[0m\n\u001b[1;32m    559\u001b[0m \u001b[0;34m\u001b[0m\u001b[0m\n\u001b[1;32m    560\u001b[0m \u001b[0;32mdef\u001b[0m \u001b[0mdropout2d\u001b[0m\u001b[0;34m(\u001b[0m\u001b[0minput\u001b[0m\u001b[0;34m,\u001b[0m \u001b[0mp\u001b[0m\u001b[0;34m=\u001b[0m\u001b[0;36m0.5\u001b[0m\u001b[0;34m,\u001b[0m \u001b[0mtraining\u001b[0m\u001b[0;34m=\u001b[0m\u001b[0;32mFalse\u001b[0m\u001b[0;34m,\u001b[0m \u001b[0minplace\u001b[0m\u001b[0;34m=\u001b[0m\u001b[0;32mFalse\u001b[0m\u001b[0;34m)\u001b[0m\u001b[0;34m:\u001b[0m\u001b[0;34m\u001b[0m\u001b[0m\n\u001b[0;32m--> 561\u001b[0;31m     \u001b[0;32mreturn\u001b[0m \u001b[0m_functions\u001b[0m\u001b[0;34m.\u001b[0m\u001b[0mdropout\u001b[0m\u001b[0;34m.\u001b[0m\u001b[0mFeatureDropout\u001b[0m\u001b[0;34m.\u001b[0m\u001b[0mapply\u001b[0m\u001b[0;34m(\u001b[0m\u001b[0minput\u001b[0m\u001b[0;34m,\u001b[0m \u001b[0mp\u001b[0m\u001b[0;34m,\u001b[0m \u001b[0mtraining\u001b[0m\u001b[0;34m,\u001b[0m \u001b[0minplace\u001b[0m\u001b[0;34m)\u001b[0m\u001b[0;34m\u001b[0m\u001b[0m\n\u001b[0m\u001b[1;32m    562\u001b[0m \u001b[0;34m\u001b[0m\u001b[0m\n\u001b[1;32m    563\u001b[0m \u001b[0;34m\u001b[0m\u001b[0m\n",
      "\u001b[0;32m~/.local/lib/python3.5/site-packages/torch/nn/_functions/dropout.py\u001b[0m in \u001b[0;36mforward\u001b[0;34m(cls, ctx, input, p, train, inplace)\u001b[0m\n\u001b[1;32m     30\u001b[0m             \u001b[0moutput\u001b[0m \u001b[0;34m=\u001b[0m \u001b[0minput\u001b[0m\u001b[0;34m\u001b[0m\u001b[0m\n\u001b[1;32m     31\u001b[0m         \u001b[0;32melse\u001b[0m\u001b[0;34m:\u001b[0m\u001b[0;34m\u001b[0m\u001b[0m\n\u001b[0;32m---> 32\u001b[0;31m             \u001b[0moutput\u001b[0m \u001b[0;34m=\u001b[0m \u001b[0minput\u001b[0m\u001b[0;34m.\u001b[0m\u001b[0mclone\u001b[0m\u001b[0;34m(\u001b[0m\u001b[0;34m)\u001b[0m\u001b[0;34m\u001b[0m\u001b[0m\n\u001b[0m\u001b[1;32m     33\u001b[0m \u001b[0;34m\u001b[0m\u001b[0m\n\u001b[1;32m     34\u001b[0m         \u001b[0;32mif\u001b[0m \u001b[0mctx\u001b[0m\u001b[0;34m.\u001b[0m\u001b[0mp\u001b[0m \u001b[0;34m>\u001b[0m \u001b[0;36m0\u001b[0m \u001b[0;32mand\u001b[0m \u001b[0mctx\u001b[0m\u001b[0;34m.\u001b[0m\u001b[0mtrain\u001b[0m\u001b[0;34m:\u001b[0m\u001b[0;34m\u001b[0m\u001b[0m\n",
      "\u001b[0;31mKeyboardInterrupt\u001b[0m: "
     ]
    }
   ],
   "source": [
    "good_correct = {}\n",
    "bad_correct = {}\n",
    "for i, im in enumerate(train_loader):\n",
    "    im_torch, im_orig, lab_num = Variable(im[0].cuda()), im[0].numpy().squeeze(), im[1].numpy()[0]\n",
    "    good_max, good_pred = F.softmax(model(im_torch)).max(1)\n",
    "    good_pred = good_pred.data[0]; good_max = good_max.data[0]\n",
    "    bad_max, bad_pred = F.softmax(bad_model(im_torch)).max(1)\n",
    "    bad_pred = bad_pred.data[0]; bad_max = bad_max.data[0]\n",
    "    \n",
    "    if (good_pred == lab_num or bad_pred == lab_num) and good_pred != bad_pred:\n",
    "        if good_pred == lab_num:\n",
    "            good_correct[i] = good_max - F.softmax(bad_model(im_torch)).data[0, good_pred]\n",
    "        else:\n",
    "            bad_correct[i] = bad_max - F.softmax(model(im_torch)).data[0, bad_pred]\n",
    "            \n",
    "    if i % 1000 == 0:\n",
    "        print(i)"
   ]
  },
  {
   "cell_type": "code",
   "execution_count": null,
   "metadata": {},
   "outputs": [],
   "source": [
    "sorted_good = sorted(good_correct.items(), key=operator.itemgetter(1))[::-1]\n",
    "sorted_bad = sorted(bad_correct.items(), key=operator.itemgetter(1))[::-1]\n",
    "good_exs = set([a[0] for a in sorted_good[:6]])\n",
    "bad_exs = set([a[0] for a in sorted_bad[:3]])"
   ]
  },
  {
   "cell_type": "code",
   "execution_count": 14,
   "metadata": {},
   "outputs": [],
   "source": [
    "all_data = list(train_loader)"
   ]
  },
  {
   "cell_type": "code",
   "execution_count": 3,
   "metadata": {
    "scrolled": true
   },
   "outputs": [
    {
     "ename": "NameError",
     "evalue": "name 'good_exs' is not defined",
     "output_type": "error",
     "traceback": [
      "\u001b[0;31m---------------------------------------------------------------------------\u001b[0m",
      "\u001b[0;31mNameError\u001b[0m                                 Traceback (most recent call last)",
      "\u001b[0;32m<ipython-input-3-1414e380ca21>\u001b[0m in \u001b[0;36m<module>\u001b[0;34m()\u001b[0m\n\u001b[1;32m      1\u001b[0m \u001b[0;31m# Visualize good examples\u001b[0m\u001b[0;34m\u001b[0m\u001b[0;34m\u001b[0m\u001b[0m\n\u001b[0;32m----> 2\u001b[0;31m \u001b[0;32mfor\u001b[0m \u001b[0mind\u001b[0m \u001b[0;32min\u001b[0m \u001b[0mgood_exs\u001b[0m\u001b[0;34m:\u001b[0m\u001b[0;34m\u001b[0m\u001b[0m\n\u001b[0m\u001b[1;32m      3\u001b[0m     \u001b[0mim\u001b[0m \u001b[0;34m=\u001b[0m \u001b[0mall_data\u001b[0m\u001b[0;34m[\u001b[0m\u001b[0mind\u001b[0m\u001b[0;34m]\u001b[0m\u001b[0;34m\u001b[0m\u001b[0m\n\u001b[1;32m      4\u001b[0m     \u001b[0mim_torch\u001b[0m\u001b[0;34m,\u001b[0m \u001b[0mim_orig\u001b[0m\u001b[0;34m,\u001b[0m \u001b[0mlab_num\u001b[0m \u001b[0;34m=\u001b[0m  \u001b[0mVariable\u001b[0m\u001b[0;34m(\u001b[0m\u001b[0mim\u001b[0m\u001b[0;34m[\u001b[0m\u001b[0;36m0\u001b[0m\u001b[0;34m]\u001b[0m\u001b[0;34m.\u001b[0m\u001b[0mcuda\u001b[0m\u001b[0;34m(\u001b[0m\u001b[0;34m)\u001b[0m\u001b[0;34m)\u001b[0m\u001b[0;34m,\u001b[0m \u001b[0mim\u001b[0m\u001b[0;34m[\u001b[0m\u001b[0;36m0\u001b[0m\u001b[0;34m]\u001b[0m\u001b[0;34m.\u001b[0m\u001b[0mnumpy\u001b[0m\u001b[0;34m(\u001b[0m\u001b[0;34m)\u001b[0m\u001b[0;34m.\u001b[0m\u001b[0msqueeze\u001b[0m\u001b[0;34m(\u001b[0m\u001b[0;34m)\u001b[0m\u001b[0;34m,\u001b[0m \u001b[0mim\u001b[0m\u001b[0;34m[\u001b[0m\u001b[0;36m1\u001b[0m\u001b[0;34m]\u001b[0m\u001b[0;34m.\u001b[0m\u001b[0mnumpy\u001b[0m\u001b[0;34m(\u001b[0m\u001b[0;34m)\u001b[0m\u001b[0;34m[\u001b[0m\u001b[0;36m0\u001b[0m\u001b[0;34m]\u001b[0m \u001b[0;31m#dset.get_im_and_label(1007)\u001b[0m\u001b[0;34m\u001b[0m\u001b[0m\n\u001b[1;32m      5\u001b[0m     \u001b[0mprint\u001b[0m\u001b[0;34m(\u001b[0m\u001b[0mind\u001b[0m\u001b[0;34m,\u001b[0m \u001b[0mlab_num\u001b[0m\u001b[0;34m,\u001b[0m \u001b[0mmodel\u001b[0m\u001b[0;34m.\u001b[0m\u001b[0mpredict\u001b[0m\u001b[0;34m(\u001b[0m\u001b[0mim_torch\u001b[0m\u001b[0;34m)\u001b[0m\u001b[0;34m,\u001b[0m \u001b[0mbad_model\u001b[0m\u001b[0;34m.\u001b[0m\u001b[0mpredict\u001b[0m\u001b[0;34m(\u001b[0m\u001b[0mim_torch\u001b[0m\u001b[0;34m)\u001b[0m\u001b[0;34m)\u001b[0m\u001b[0;34m\u001b[0m\u001b[0m\n",
      "\u001b[0;31mNameError\u001b[0m: name 'good_exs' is not defined"
     ]
    }
   ],
   "source": [
    "# Visualize good examples\n",
    "for ind in good_exs:\n",
    "    im = all_data[ind]\n",
    "    im_torch, im_orig, lab_num =  Variable(im[0].cuda()), im[0].numpy().squeeze(), im[1].numpy()[0] #dset.get_im_and_label(1007)\n",
    "    print(ind, lab_num, model.predict(im_torch), bad_model.predict(im_torch))\n",
    "    mod = model\n",
    "    lists = agglomerate.agglomerate(mod, pred_ims, percentile_include, \n",
    "                                    method, sweep_dim, layer, im_orig, \n",
    "                                    mod.predict(im_torch), use_abs, num_iters=num_iters, \n",
    "                                    im_torch=im_torch, model_type='mnist')\n",
    "\n",
    "    # visualize\n",
    "    plt.figure(figsize=(15, 9), facecolor='white')\n",
    "    rows = 5\n",
    "    viz.visualize_ims_list(lists['scores_list'], \n",
    "                           cmap_new='redwhiteblue',\n",
    "                           title='Refined scores',\n",
    "                           subplot_row=0, subplot_rows=rows, colorbar=True)\n",
    "    viz.visualize_ims_list(lists['comps_list'],\n",
    "                          title='blobs',\n",
    "                          subplot_row=1, subplot_rows=rows, colorbar=False)\n",
    "    viz.visualize_dict_list(lists['comp_scores_raw_list'], method,\n",
    "                           subplot_row=2, subplot_rows=rows)\n",
    "    viz.visualize_dict_list(lists['comp_scores_raw_list'], method, subplot_row=3, \n",
    "                            subplot_rows=rows, lab_num=lab_num, bar_graph=True)\n",
    "    viz.visualize_arr_list(lists['comp_scores_raw_combined_list'], method, \n",
    "                           subplot_row=4, subplot_rows=rows)\n",
    "    #plt.show()\n",
    "    plt.savefig('vision_results/mnist/jamie/final/model2_' + str(ind) + '.png')\n",
    "\n",
    "    #num_ims = lists['num_before_final']\n",
    "\n",
    "    #viz.visualize_ims_list(lists['comps_list'], title='',  subplot_row=1, subplot_rows=rows, colorbar=False,\n",
    "    #                       num_ims=lists['num_before_final'], im_orig=im_orig, plot_overlay=True,\n",
    "    #                       mturk=True, comp_scores_raw=lists['comp_scores_raw_list'], lab_num_correct=lab_num, mnist=True, skip_first=True)\n",
    "    #plt.show()\n",
    "    \n",
    "    mod = bad_model\n",
    "    lists = agglomerate.agglomerate(mod, pred_ims, percentile_include, \n",
    "                                    method, sweep_dim, layer, im_orig, \n",
    "                                    mod.predict(im_torch), use_abs, num_iters=num_iters, \n",
    "                                    im_torch=im_torch, model_type='mnist')\n",
    "    # visualize\n",
    "    plt.figure(figsize=(15, 9), facecolor='white')\n",
    "    rows = 5\n",
    "    viz.visualize_ims_list(lists['scores_list'], \n",
    "                           cmap_new='redwhiteblue',\n",
    "                           title='Refined scores',\n",
    "                           subplot_row=0, subplot_rows=rows, colorbar=True)\n",
    "    viz.visualize_ims_list(lists['comps_list'],\n",
    "                          title='blobs',\n",
    "                          subplot_row=1, subplot_rows=rows, colorbar=False)\n",
    "    viz.visualize_dict_list(lists['comp_scores_raw_list'], method,\n",
    "                           subplot_row=2, subplot_rows=rows)\n",
    "    viz.visualize_dict_list(lists['comp_scores_raw_list'], method, subplot_row=3, \n",
    "                            subplot_rows=rows, lab_num=lab_num, bar_graph=True)\n",
    "    viz.visualize_arr_list(lists['comp_scores_raw_combined_list'], method, \n",
    "                           subplot_row=4, subplot_rows=rows)\n",
    "    #plt.show()\n",
    "    plt.savefig('vision_results/mnist/jamie/final/model1_' + str(ind) + '.png')\n",
    "    \n",
    "    #num_ims = lists['num_before_final']\n",
    "\n",
    "    #viz.visualize_ims_list(lists['comps_list'], title='',  subplot_row=1, subplot_rows=rows, colorbar=False,\n",
    "    #                       num_ims=lists['num_before_final'], im_orig=im_orig, plot_overlay=True,\n",
    "    #                       mturk=True, comp_scores_raw=lists['comp_scores_raw_list'], lab_num_correct=lab_num, mnist=True, skip_first=True)\n",
    "    #plt.show()"
   ]
  },
  {
   "cell_type": "code",
   "execution_count": 25,
   "metadata": {
    "scrolled": false
   },
   "outputs": [
    {
     "ename": "SyntaxError",
     "evalue": "invalid syntax (<ipython-input-25-a0e240351820>, line 52)",
     "output_type": "error",
     "traceback": [
      "\u001b[0;36m  File \u001b[0;32m\"<ipython-input-25-a0e240351820>\"\u001b[0;36m, line \u001b[0;32m52\u001b[0m\n\u001b[0;31m    plt.savefig('vision_results/' + str(ind) + '_bad.png').\u001b[0m\n\u001b[0m                                                           ^\u001b[0m\n\u001b[0;31mSyntaxError\u001b[0m\u001b[0;31m:\u001b[0m invalid syntax\n"
     ]
    }
   ],
   "source": [
    "# Visualize bad examples\n",
    "for ind in bad_exs:\n",
    "    im = all_data[ind]\n",
    "    im_torch, im_orig, lab_num =  Variable(im[0].cuda()), im[0].numpy().squeeze(), im[1].numpy()[0] #dset.get_im_and_label(1007)\n",
    "    print(ind, lab_num, model.predict(im_torch), bad_model.predict(im_torch))\n",
    "    mod = model\n",
    "    lists = agglomerate.agglomerate(mod, pred_ims, percentile_include, \n",
    "                                    method, sweep_dim, layer, im_orig, \n",
    "                                    mod.predict(im_torch), use_abs, num_iters=num_iters, \n",
    "                                    im_torch=im_torch, model_type='mnist')\n",
    "\n",
    "    # visualize\n",
    "    plt.figure(figsize=(15, 9), facecolor='white')\n",
    "    rows = 5\n",
    "    viz.visualize_ims_list(lists['scores_list'], \n",
    "                           cmap_new='redwhiteblue',\n",
    "                           title='Refined scores',\n",
    "                           subplot_row=0, subplot_rows=rows, colorbar=True)\n",
    "    viz.visualize_ims_list(lists['comps_list'],\n",
    "                          title='blobs',\n",
    "                          subplot_row=1, subplot_rows=rows, colorbar=False)\n",
    "    viz.visualize_dict_list(lists['comp_scores_raw_list'], method,\n",
    "                           subplot_row=2, subplot_rows=rows)\n",
    "    viz.visualize_dict_list(lists['comp_scores_raw_list'], method, subplot_row=3, \n",
    "                            subplot_rows=rows, lab_num=lab_num, bar_graph=True)\n",
    "    viz.visualize_arr_list(lists['comp_scores_raw_combined_list'], method, \n",
    "                           subplot_row=4, subplot_rows=rows)\n",
    "    plt.savefig('vision_results/' + str(ind) + '_bad.png')\n",
    "\n",
    "    mod = bad_model\n",
    "    lists = agglomerate.agglomerate(mod, pred_ims, percentile_include, \n",
    "                                    method, sweep_dim, layer, im_orig, \n",
    "                                    mod.predict(im_torch), use_abs, num_iters=num_iters, \n",
    "                                    im_torch=im_torch, model_type='mnist')\n",
    "\n",
    "    # visualize\n",
    "    plt.figure(figsize=(15, 9), facecolor='white')\n",
    "    rows = 5\n",
    "    viz.visualize_ims_list(lists['scores_list'], \n",
    "                           cmap_new='redwhiteblue',\n",
    "                           title='Refined scores',\n",
    "                           subplot_row=0, subplot_rows=rows, colorbar=True)\n",
    "    viz.visualize_ims_list(lists['comps_list'],\n",
    "                          title='blobs',\n",
    "                          subplot_row=1, subplot_rows=rows, colorbar=False)\n",
    "    viz.visualize_dict_list(lists['comp_scores_raw_list'], method,\n",
    "                           subplot_row=2, subplot_rows=rows)\n",
    "    viz.visualize_dict_list(lists['comp_scores_raw_list'], method, subplot_row=3, \n",
    "                            subplot_rows=rows, lab_num=lab_num, bar_graph=True)\n",
    "    viz.visualize_arr_list(lists['comp_scores_raw_combined_list'], method, \n",
    "                           subplot_row=4, subplot_rows=rows)\n",
    "    plt.savefig('vision_results/' + str(ind) + '_bad.png')"
   ]
  },
  {
   "cell_type": "code",
   "execution_count": 16,
   "metadata": {},
   "outputs": [
    {
     "name": "stdout",
     "output_type": "stream",
     "text": [
      "{51232, 43592, 22282, 4150, 11610, 15870}\n",
      "{22779, 41396, 43574}\n"
     ]
    }
   ],
   "source": [
    "print(good_exs)\n",
    "print(bad_exs)"
   ]
  },
  {
   "cell_type": "markdown",
   "metadata": {},
   "source": [
    "# generate final mturk viz examples"
   ]
  },
  {
   "cell_type": "code",
   "execution_count": 9,
   "metadata": {
    "scrolled": true
   },
   "outputs": [
    {
     "ename": "SyntaxError",
     "evalue": "invalid syntax (<ipython-input-9-9ecb8ff2790d>, line 60)",
     "output_type": "error",
     "traceback": [
      "\u001b[0;36m  File \u001b[0;32m\"<ipython-input-9-9ecb8ff2790d>\"\u001b[0;36m, line \u001b[0;32m60\u001b[0m\n\u001b[0;31m    plt.savefig(oj(out_dir, fig_name + '.png'), bbox_inches='tight').\u001b[0m\n\u001b[0m                                                                     ^\u001b[0m\n\u001b[0;31mSyntaxError\u001b[0m\u001b[0;31m:\u001b[0m invalid syntax\n"
     ]
    }
   ],
   "source": [
    "good_exs = [2116, 6782, 940, 462, 6749, 4702]\n",
    "bad_exs = [9729, 1425, 1068] #[22779, 41396, 43574]\n",
    "rows = 2\n",
    "out_dir = 'vision_results/mnist'\n",
    "for i, m in enumerate([model, bad_model]):\n",
    "    model_name = ['model=good', 'model=bad'][i]\n",
    "    for ex in good_exs + bad_exs:\n",
    "        ex_fold = 'ex=good' if ex in good_exs else 'ex=bad'\n",
    "        \n",
    "        \n",
    "        # get data[ex]\n",
    "        im = all_data[ex]\n",
    "        im_torch, im_orig, lab_num =  Variable(im[0].cuda()), im[0].numpy().squeeze(), im[1].numpy()[0] #dset.get_im_and_label(1007)\n",
    "\n",
    "\n",
    "        # ACD\n",
    "        fig_name = str(ex) + model_name + '_method=acd_' + ex_fold\n",
    "        lists = agglomerate.agglomerate(m, pred_ims, percentile_include, \n",
    "                                    'cd', sweep_dim, layer, im_orig, \n",
    "                                    m.predict(im_torch), use_abs, num_iters=num_iters, \n",
    "                                    im_torch=im_torch, model_type='mnist')\n",
    "        plt.figure(figsize=(12, 4), facecolor='white')\n",
    "        ind, labs = viz.visualize_original_preds_mnist(im_orig, lab_num, \n",
    "                                             lists['comp_scores_raw_list'], lists['scores_orig_raw'],\n",
    "                                             subplot_rows=rows, dset=dset, mturk=True)\n",
    "        viz.visualize_ims_list(lists['comps_list'], title='',  subplot_row=1, subplot_rows=rows, colorbar=False,\n",
    "                               num_ims=lists['num_before_final'], im_orig=im_orig, plot_overlay=True,\n",
    "                               mturk=True, comp_scores_raw=lists['comp_scores_raw_list'], lab_num_correct=lab_num, mnist=True, skip_first=True)\n",
    "        plt.savefig(oj(out_dir, fig_name + '.png'), bbox_inches='tight')\n",
    "\n",
    "        # CD\n",
    "        fig_name = str(ex) + model_name + '_method=cd_'+ ex_fold\n",
    "        plt.figure(figsize=(16, 3), facecolor='white')\n",
    "        ind, labs = viz.visualize_original_preds_mnist(im_orig, lab_num, \n",
    "                                             lists['comp_scores_raw_list'], lists['scores_orig_raw'],\n",
    "                                             subplot_rows=1, dset=dset, mturk=True)\n",
    "        plt.savefig(oj(out_dir, fig_name + '.png'), bbox_inches='tight')\n",
    "\n",
    "        # integrated gradients\n",
    "        fig_name = str(ex) + model_name + '_method=ig_'+ ex_fold\n",
    "        scores_ig = score_funcs.ig_scores_cnn(model, im_torch)\n",
    "        plt.figure(figsize=(16, 3), facecolor='white')\n",
    "        ind, labs = viz.visualize_original_preds_mnist(im_orig, lab_num, \n",
    "                                             lists['comp_scores_raw_list'], scores_ig,\n",
    "                                             subplot_rows=1, dset=dset, mturk=True, use_vmax=False)\n",
    "        plt.savefig(oj(out_dir, fig_name + '.png'), bbox_inches='tight') \n",
    "        \n",
    "        \n",
    "        # break_down\n",
    "        fig_name = str(ex) + model_name + '_method=break_down_'+ ex_fold\n",
    "        tiles_break = tiling.gen_tiles(im_orig, fill=0, method='break_down', sweep_dim=1)\n",
    "        preds_break = agglomerate.get_scores(model, method='break_down', ims=tiles_break, \n",
    "                                    im_torch=im_torch, pred_ims=pred_ims, layer='softmax')\n",
    "        print(preds_break.shape)\n",
    "        plt.figure(figsize=(16, 3), facecolor='white')\n",
    "        ind, labs = viz.visualize_original_preds_mnist(im_orig, lab_num, \n",
    "                                             lists['comp_scores_raw_list'], preds_break,\n",
    "                                             subplot_rows=1, dset=dset, mturk=True, use_vmax=False)\n",
    "        plt.savefig(oj(out_dir, fig_name + '.png'), bbox_inches='tight')"
   ]
  },
  {
   "cell_type": "markdown",
   "metadata": {},
   "source": [
    "# generate final supp examples"
   ]
  },
  {
   "cell_type": "code",
   "execution_count": 26,
   "metadata": {
    "scrolled": false
   },
   "outputs": [
    {
     "ename": "SyntaxError",
     "evalue": "invalid syntax (<ipython-input-26-c7c29f3feff8>, line 37)",
     "output_type": "error",
     "traceback": [
      "\u001b[0;36m  File \u001b[0;32m\"<ipython-input-26-c7c29f3feff8>\"\u001b[0;36m, line \u001b[0;32m37\u001b[0m\n\u001b[0;31m    plt.savefig(oj(out_dir, fig_name + '.png'), bbox_inches='tight').\u001b[0m\n\u001b[0m                                                                     ^\u001b[0m\n\u001b[0;31mSyntaxError\u001b[0m\u001b[0;31m:\u001b[0m invalid syntax\n"
     ]
    }
   ],
   "source": [
    "good_exs = [2116, 6782, 940, 462, 6749, 4702]\n",
    "bad_exs = [9729, 1425, 1068]\n",
    "rows = 3\n",
    "out_dir = 'vision_results/mnist/supp'\n",
    "if not os.path.exists(out_dir):\n",
    "    os.makedirs(out_dir)\n",
    "i = 0\n",
    "m = model\n",
    "model_name = ['model=good'][i]\n",
    "for ex in good_exs + bad_exs:\n",
    "    ex_fold = 'ex=good' if ex in good_exs else 'ex=bad'\n",
    "    print(ex)\n",
    "\n",
    "    # get data[ex]\n",
    "    im = all_data[ex]\n",
    "    im_torch, im_orig, lab_num =  Variable(im[0].cuda()), im[0].numpy().squeeze(), im[1].numpy()[0] #dset.get_im_and_label(1007)\n",
    "\n",
    "\n",
    "    # ACD\n",
    "    fig_name = str(ex) + '_supp_' + model_name + '_method=acd_' + ex_fold\n",
    "    lists = agglomerate.agglomerate(m, pred_ims, percentile_include, \n",
    "                                'cd', sweep_dim, layer, im_orig, \n",
    "                                m.predict(im_torch), use_abs, num_iters=num_iters, \n",
    "                                im_torch=im_torch, model_type='mnist')\n",
    "\n",
    "    # visualize\n",
    "    plt.figure(figsize=(14, 6), facecolor='white', dpi=300)\n",
    "    viz.visualize_ims_list(lists['scores_list'], \n",
    "                           cmap_new='redwhiteblue',\n",
    "                           title='Refined scores',\n",
    "                           subplot_row=0, subplot_rows=rows, colorbar=True)\n",
    "    viz.visualize_ims_list(lists['comps_list'],\n",
    "                          title='blobs',\n",
    "                          subplot_row=1, subplot_rows=rows, colorbar=False)\n",
    "    viz.visualize_dict_list(lists['comp_scores_raw_list'], method,\n",
    "                           subplot_row=2, subplot_rows=rows)\n",
    "    plt.savefig(oj(out_dir, fig_name + '.png'), bbox_inches='tight')"
   ]
  },
  {
   "cell_type": "code",
   "execution_count": null,
   "metadata": {},
   "outputs": [],
   "source": []
  }
 ],
 "metadata": {
  "anaconda-cloud": {},
  "kernelspec": {
   "display_name": "Python 3",
   "language": "python",
   "name": "python3"
  },
  "language_info": {
   "codemirror_mode": {
    "name": "ipython",
    "version": 3
   },
   "file_extension": ".py",
   "mimetype": "text/x-python",
   "name": "python",
   "nbconvert_exporter": "python",
   "pygments_lexer": "ipython3",
   "version": "3.5.4"
  }
 },
 "nbformat": 4,
 "nbformat_minor": 2
}
